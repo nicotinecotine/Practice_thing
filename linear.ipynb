{
 "cells": [
  {
   "cell_type": "code",
   "execution_count": 1,
   "id": "5e757e70",
   "metadata": {},
   "outputs": [],
   "source": [
    "%matplotlib inline\n",
    "import pandas as pd\n",
    "import matplotlib.pyplot as plt\n",
    "import seaborn as sns\n",
    "import numpy as np"
   ]
  },
  {
   "cell_type": "code",
   "execution_count": 2,
   "id": "d2afae4d",
   "metadata": {},
   "outputs": [],
   "source": [
    "df = pd.read_csv('http://d396qusza40orc.cloudfront.net/statistics/lec_resources/states.csv')"
   ]
  },
  {
   "cell_type": "code",
   "execution_count": 3,
   "id": "7ae50763",
   "metadata": {},
   "outputs": [
    {
     "data": {
      "text/html": [
       "<div>\n",
       "<style scoped>\n",
       "    .dataframe tbody tr th:only-of-type {\n",
       "        vertical-align: middle;\n",
       "    }\n",
       "\n",
       "    .dataframe tbody tr th {\n",
       "        vertical-align: top;\n",
       "    }\n",
       "\n",
       "    .dataframe thead th {\n",
       "        text-align: right;\n",
       "    }\n",
       "</style>\n",
       "<table border=\"1\" class=\"dataframe\">\n",
       "  <thead>\n",
       "    <tr style=\"text-align: right;\">\n",
       "      <th></th>\n",
       "      <th>state</th>\n",
       "      <th>metro_res</th>\n",
       "      <th>white</th>\n",
       "      <th>hs_grad</th>\n",
       "      <th>poverty</th>\n",
       "      <th>female_house</th>\n",
       "    </tr>\n",
       "  </thead>\n",
       "  <tbody>\n",
       "    <tr>\n",
       "      <th>0</th>\n",
       "      <td>Alabama</td>\n",
       "      <td>55.4</td>\n",
       "      <td>71.3</td>\n",
       "      <td>79.9</td>\n",
       "      <td>14.6</td>\n",
       "      <td>14.2</td>\n",
       "    </tr>\n",
       "    <tr>\n",
       "      <th>1</th>\n",
       "      <td>Alaska</td>\n",
       "      <td>65.6</td>\n",
       "      <td>70.8</td>\n",
       "      <td>90.6</td>\n",
       "      <td>8.3</td>\n",
       "      <td>10.8</td>\n",
       "    </tr>\n",
       "    <tr>\n",
       "      <th>2</th>\n",
       "      <td>Arizona</td>\n",
       "      <td>88.2</td>\n",
       "      <td>87.7</td>\n",
       "      <td>83.8</td>\n",
       "      <td>13.3</td>\n",
       "      <td>11.1</td>\n",
       "    </tr>\n",
       "    <tr>\n",
       "      <th>3</th>\n",
       "      <td>Arkansas</td>\n",
       "      <td>52.5</td>\n",
       "      <td>81.0</td>\n",
       "      <td>80.9</td>\n",
       "      <td>18.0</td>\n",
       "      <td>12.1</td>\n",
       "    </tr>\n",
       "    <tr>\n",
       "      <th>4</th>\n",
       "      <td>California</td>\n",
       "      <td>94.4</td>\n",
       "      <td>77.5</td>\n",
       "      <td>81.1</td>\n",
       "      <td>12.8</td>\n",
       "      <td>12.6</td>\n",
       "    </tr>\n",
       "  </tbody>\n",
       "</table>\n",
       "</div>"
      ],
      "text/plain": [
       "        state  metro_res  white  hs_grad  poverty  female_house\n",
       "0     Alabama       55.4   71.3     79.9     14.6          14.2\n",
       "1      Alaska       65.6   70.8     90.6      8.3          10.8\n",
       "2     Arizona       88.2   87.7     83.8     13.3          11.1\n",
       "3    Arkansas       52.5   81.0     80.9     18.0          12.1\n",
       "4  California       94.4   77.5     81.1     12.8          12.6"
      ]
     },
     "execution_count": 3,
     "metadata": {},
     "output_type": "execute_result"
    }
   ],
   "source": [
    "df.head()"
   ]
  },
  {
   "cell_type": "code",
   "execution_count": 4,
   "id": "e6d3b8b3",
   "metadata": {},
   "outputs": [
    {
     "data": {
      "text/plain": [
       "<AxesSubplot:xlabel='hs_grad', ylabel='poverty'>"
      ]
     },
     "execution_count": 4,
     "metadata": {},
     "output_type": "execute_result"
    },
    {
     "data": {
      "image/png": "[encoded data removed]",
      "text/plain": [
       "<Figure size 432x288 with 1 Axes>"
      ]
     },
     "metadata": {
      "needs_background": "light"
     },
     "output_type": "display_data"
    }
   ],
   "source": [
    "sns.scatterplot(x=df.hs_grad, y=df.poverty) #график зависимости уровня бедности от уровня_высшего_образования"
   ]
  },
  {
   "cell_type": "code",
   "execution_count": 7,
   "id": "c7d4929e",
   "metadata": {},
   "outputs": [
    {
     "data": {
      "text/plain": [
       "3.725997695051542"
      ]
     },
     "execution_count": 7,
     "metadata": {},
     "output_type": "execute_result"
    }
   ],
   "source": [
    "df.hs_grad.std() #стандартное отклонение х"
   ]
  },
  {
   "cell_type": "code",
   "execution_count": 8,
   "id": "9afca68a",
   "metadata": {},
   "outputs": [
    {
     "data": {
      "text/plain": [
       "3.0991852186676168"
      ]
     },
     "execution_count": 8,
     "metadata": {},
     "output_type": "execute_result"
    }
   ],
   "source": [
    "df.poverty.std() #стандартное отклоенение Y"
   ]
  },
  {
   "cell_type": "code",
   "execution_count": 12,
   "id": "0a6b6a87",
   "metadata": {},
   "outputs": [
    {
     "data": {
      "text/plain": [
       "-0.7468582531582508"
      ]
     },
     "execution_count": 12,
     "metadata": {},
     "output_type": "execute_result"
    }
   ],
   "source": [
    "df.iloc[:, 3:5].corr().poverty[0] #коэффицент корелляции X и Y"
   ]
  },
  {
   "cell_type": "code",
   "execution_count": 18,
   "id": "85fd6a69",
   "metadata": {},
   "outputs": [],
   "source": [
    "b1 = (df.hs_grad.std() / df.poverty.std()) * df.iloc[:, 3:5].corr().poverty[0] "
   ]
  },
  {
   "cell_type": "code",
   "execution_count": 16,
   "id": "851971f1",
   "metadata": {},
   "outputs": [
    {
     "data": {
      "text/plain": [
       "11.349019607843138"
      ]
     },
     "execution_count": 16,
     "metadata": {},
     "output_type": "execute_result"
    }
   ],
   "source": [
    "df.poverty.mean() #Y среднее"
   ]
  },
  {
   "cell_type": "code",
   "execution_count": 17,
   "id": "0e8cf531",
   "metadata": {},
   "outputs": [
    {
     "data": {
      "text/plain": [
       "86.01176470588234"
      ]
     },
     "execution_count": 17,
     "metadata": {},
     "output_type": "execute_result"
    }
   ],
   "source": [
    "df.hs_grad.mean() #X среднее"
   ]
  },
  {
   "cell_type": "code",
   "execution_count": 19,
   "id": "92772141",
   "metadata": {},
   "outputs": [],
   "source": [
    "b0 = df.poverty.mean() - b1*df.hs_grad.mean()"
   ]
  },
  {
   "cell_type": "code",
   "execution_count": 20,
   "id": "c188f45e",
   "metadata": {},
   "outputs": [
    {
     "ename": "NameError",
     "evalue": "name 'x' is not defined",
     "output_type": "error",
     "traceback": [
      "\u001b[1;31m---------------------------------------------------------------------------\u001b[0m",
      "\u001b[1;31mNameError\u001b[0m                                 Traceback (most recent call last)",
      "\u001b[1;32m~\\AppData\\Local\\Temp\\ipykernel_6936\\3495532787.py\u001b[0m in \u001b[0;36m<module>\u001b[1;34m\u001b[0m\n\u001b[1;32m----> 1\u001b[1;33m \u001b[0my\u001b[0m \u001b[1;33m=\u001b[0m \u001b[0mb0\u001b[0m \u001b[1;33m+\u001b[0m \u001b[0mb1\u001b[0m\u001b[1;33m*\u001b[0m\u001b[0mx\u001b[0m\u001b[1;33m\u001b[0m\u001b[1;33m\u001b[0m\u001b[0m\n\u001b[0m",
      "\u001b[1;31mNameError\u001b[0m: name 'x' is not defined"
     ]
    }
   ],
   "source": [
    "y = b0 + b1*x #уравнение регрессии"
   ]
  },
  {
   "cell_type": "code",
   "execution_count": 21,
   "id": "ad6455ce",
   "metadata": {},
   "outputs": [
    {
     "data": {
      "text/plain": [
       "<AxesSubplot:xlabel='hs_grad', ylabel='poverty'>"
      ]
     },
     "execution_count": 21,
     "metadata": {},
     "output_type": "execute_result"
    },
    {
     "data": {
      "image/png": "[encoded data removed]",
      "text/plain": [
       "<Figure size 432x288 with 1 Axes>"
      ]
     },
     "metadata": {
      "needs_background": "light"
     },
     "output_type": "display_data"
    }
   ],
   "source": [
    "sns.scatterplot(x=df.hs_grad, y=df.poverty)\n",
    "sns.lineplot(x=df.hs_grad, y=(b0 + (b1 * df.hs_grad)), color='red')"
   ]
  },
  {
   "cell_type": "code",
   "execution_count": 43,
   "id": "8a65dc75",
   "metadata": {},
   "outputs": [
    {
     "data": {
      "text/plain": [
       "3.2783853370733596"
      ]
     },
     "execution_count": 43,
     "metadata": {},
     "output_type": "execute_result"
    }
   ],
   "source": [
    "b0 + (b1 * 95) #уровень бедности при 95 процентах_высшего_образования "
   ]
  },
  {
   "cell_type": "code",
   "execution_count": 44,
   "id": "8faa32ea",
   "metadata": {},
   "outputs": [
    {
     "data": {
      "text/plain": [
       "1.482563575252854"
      ]
     },
     "execution_count": 44,
     "metadata": {},
     "output_type": "execute_result"
    }
   ],
   "source": [
    "b0 + (b1 * 97) #уровень бедности при 97 процентах_высшего_образования "
   ]
  },
  {
   "cell_type": "code",
   "execution_count": 45,
   "id": "fd4bdbbd",
   "metadata": {},
   "outputs": [
    {
     "data": {
      "text/plain": [
       "12.257494146175844"
      ]
     },
     "execution_count": 45,
     "metadata": {},
     "output_type": "execute_result"
    }
   ],
   "source": [
    "b0 + (b1 * 85) #уровень бедности при 85 процентах_высшего_образования "
   ]
  },
  {
   "cell_type": "code",
   "execution_count": null,
   "id": "f30490cc",
   "metadata": {},
   "outputs": [],
   "source": []
  }
 ],
 "metadata": {
  "kernelspec": {
   "display_name": "Python 3 (ipykernel)",
   "language": "python",
   "name": "python3"
  },
  "language_info": {
   "codemirror_mode": {
    "name": "ipython",
    "version": 3
   },
   "file_extension": ".py",
   "mimetype": "text/x-python",
   "name": "python",
   "nbconvert_exporter": "python",
   "pygments_lexer": "ipython3",
   "version": "3.7.7"
  }
 },
 "nbformat": 4,
 "nbformat_minor": 5
}
